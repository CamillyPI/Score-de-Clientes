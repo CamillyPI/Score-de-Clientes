{
 "cells": [
  {
   "cell_type": "markdown",
   "metadata": {},
   "source": [
    "# Construção das etapas\n",
    "\n",
    "1 - importar base de dados  \n",
    "2 - preparar a base de dados  \n",
    "3 - criar modelos de IA e fazer comparações  \n",
    "4 - escolher e aplicar o melhor modelo para fazer previsões  "
   ]
  },
  {
   "cell_type": "code",
   "execution_count": null,
   "metadata": {},
   "outputs": [],
   "source": [
    "import pandas as pd\n",
    "\n",
    "clientes_df = pd.read_csv(\"clientes.csv\")"
   ]
  },
  {
   "cell_type": "code",
   "execution_count": null,
   "metadata": {},
   "outputs": [],
   "source": [
    "# display(clientes_df.info())\n",
    "# colunas para adaptar -> profissao, mix crédito e comportamento pagamento\n",
    "\n",
    "from sklearn.preprocessing import LabelEncoder\n",
    "\n",
    "encoder = LabelEncoder()\n",
    "\n",
    "objlist = clientes_df.select_dtypes(include= \"object\").columns\n",
    "\n",
    "for object in objlist:\n",
    "    clientes_df[object] = encoder.fit_transform(clientes_df[object].astype(str))\n",
    "\n",
    "# display(clientes_df)"
   ]
  }
 ],
 "metadata": {
  "kernelspec": {
   "display_name": "Python 3",
   "language": "python",
   "name": "python3"
  },
  "language_info": {
   "codemirror_mode": {
    "name": "ipython",
    "version": 3
   },
   "file_extension": ".py",
   "mimetype": "text/x-python",
   "name": "python",
   "nbconvert_exporter": "python",
   "pygments_lexer": "ipython3",
   "version": "3.11.4"
  }
 },
 "nbformat": 4,
 "nbformat_minor": 2
}
