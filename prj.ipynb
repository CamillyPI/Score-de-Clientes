{
 "cells": [
  {
   "cell_type": "markdown",
   "metadata": {},
   "source": [
    "# Construção das etapas\n",
    "\n",
    "1 - importar base de dados  \n",
    "2 - preparar a base de dados  \n",
    "3 - criar modelos de IA e fazer comparações  \n",
    "4 - escolher e aplicar o melhor modelo para fazer previsões  "
   ]
  },
  {
   "cell_type": "code",
   "execution_count": null,
   "metadata": {},
   "outputs": [],
   "source": [
    "import pandas as pd\n",
    "\n",
    "clientes_df = pd.read_csv(\"clientes.csv\")"
   ]
  },
  {
   "cell_type": "code",
   "execution_count": null,
   "metadata": {},
   "outputs": [],
   "source": [
    "# display(clientes_df.info())\n",
    "# colunas para adaptar -> profissao, mix crédito e comportamento pagamento\n",
    "\n",
    "from sklearn.preprocessing import LabelEncoder\n",
    "\n",
    "encoder = LabelEncoder()\n",
    "\n",
    "objlist = clientes_df[[\"profissao\", \"mix_credito\", \"comportamento_pagamento\"]]\n",
    "# atualização feita porque encontrei um erro na lógica onde transformava uma coluna \n",
    "# com valores que nao deveriam ser alterados\n",
    "\n",
    "for object in objlist:\n",
    "    clientes_df[object] = encoder.fit_transform(clientes_df[object].astype(str))\n",
    "    \n",
    "# display(clientes_df.info())\n"
   ]
  },
  {
   "cell_type": "code",
   "execution_count": null,
   "metadata": {},
   "outputs": [],
   "source": [
    "display(clientes_df)"
   ]
  },
  {
   "cell_type": "code",
   "execution_count": null,
   "metadata": {},
   "outputs": [],
   "source": [
    "y = clientes_df[\"score_credito\"]\n",
    "x = clientes_df.drop(columns=[\"score_credito\", \"id_cliente\"])\n",
    "\n",
    "from sklearn.model_selection import train_test_split\n",
    "\n",
    "x_train, x_test, y_train, y_test = train_test_split(x, y, test_size= 0.27)"
   ]
  },
  {
   "cell_type": "code",
   "execution_count": null,
   "metadata": {},
   "outputs": [],
   "source": [
    "from sklearn.ensemble import RandomForestClassifier\n",
    "from sklearn.neighbors import KNeighborsClassifier\n",
    "\n",
    "rf_model = RandomForestClassifier()\n",
    "knn_model = KNeighborsClassifier()\n",
    "\n",
    "rf_model.fit(x_train, y_train)\n",
    "knn_model.fit(x_train.values, y_train.values)"
   ]
  },
  {
   "cell_type": "code",
   "execution_count": null,
   "metadata": {},
   "outputs": [],
   "source": [
    "rf_previsao = rf_model.predict(x_test)\n",
    "knn_previsao = knn_model.predict(x_test.values)\n",
    "\n",
    "from sklearn.metrics import accuracy_score\n",
    "\n",
    "display(accuracy_score(y_test, rf_previsao))\n",
    "display(accuracy_score(y_test, knn_previsao))"
   ]
  },
  {
   "cell_type": "markdown",
   "metadata": {},
   "source": [
    "##### Usando o melhor modelo (árvore de decisão) para fazer novas previsões "
   ]
  },
  {
   "cell_type": "code",
   "execution_count": null,
   "metadata": {},
   "outputs": [],
   "source": [
    "novosc_df = pd.read_csv(\"novos_clientes.csv\")\n",
    "\n",
    "objlist2 = novosc_df[[\"profissao\", \"mix_credito\", \"comportamento_pagamento\"]]\n",
    "\n",
    "for object in objlist2:\n",
    "    novosc_df[object] = encoder.fit_transform(novosc_df[object].astype(str))"
   ]
  },
  {
   "cell_type": "code",
   "execution_count": null,
   "metadata": {},
   "outputs": [],
   "source": [
    "nova_previsao = rf_model.predict(novosc_df)\n",
    "display(novosc_df)\n",
    "display(nova_previsao)"
   ]
  }
 ],
 "metadata": {
  "kernelspec": {
   "display_name": "Python 3",
   "language": "python",
   "name": "python3"
  },
  "language_info": {
   "codemirror_mode": {
    "name": "ipython",
    "version": 3
   },
   "file_extension": ".py",
   "mimetype": "text/x-python",
   "name": "python",
   "nbconvert_exporter": "python",
   "pygments_lexer": "ipython3",
   "version": "3.11.4"
  }
 },
 "nbformat": 4,
 "nbformat_minor": 2
}
